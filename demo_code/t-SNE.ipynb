{
 "cells": [
  {
   "cell_type": "code",
   "execution_count": null,
   "metadata": {},
   "outputs": [],
   "source": [
    "'''tsne的参考代码'''\n",
    "from sklearn.manifold import TSNE\n",
    "import pandas as pd\n",
    "import numpy as np\n",
    "import pickle as pkl\n",
    "# df is a pandas dataframe\n",
    "data = np.array(df['data'].tolist()).reshape(70000, -1)\n",
    "label = df['label'].tolist()\n",
    "x_tsne = TSNE(n_components=2,random_state=0).fit_transform(data)\n",
    "with open('data/tsne.pkl', 'wb') as f:\n",
    "    pkl.dump(x_tsne, f)\n",
    "with open('data/tsne.pkl', 'rb') as f:\n",
    "    x_tsne = pkl.load(f)"
   ]
  }
 ],
 "metadata": {
  "kernelspec": {
   "display_name": "gan",
   "language": "python",
   "name": "python3"
  },
  "language_info": {
   "name": "python",
   "version": "3.7.13 (default, Mar 29 2022, 02:18:16) \n[GCC 7.5.0]"
  },
  "orig_nbformat": 4,
  "vscode": {
   "interpreter": {
    "hash": "21e2e1b5dcab4fc70fdb401af774a60c8dedeabbbc3fa6df77f7e12a85c9b849"
   }
  }
 },
 "nbformat": 4,
 "nbformat_minor": 2
}
