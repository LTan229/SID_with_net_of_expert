{
 "cells": [
  {
   "cell_type": "code",
   "execution_count": null,
   "metadata": {},
   "outputs": [],
   "source": [
    "'''tsne的参考代码'''\n",
    "from sklearn.manifold import TSNE\n",
    "import pandas as pd\n",
    "import numpy as np\n",
    "import pickle as pkl\n",
    "# df is a pandas dataframe\n",
    "data = np.array(df['data'].tolist()).reshape(70000, -1)\n",
    "label = df['label'].tolist()\n",
    "x_tsne = TSNE(n_components=2,random_state=0).fit_transform(data)\n",
    "with open('data/tsne.pkl', 'wb') as f:\n",
    "    pkl.dump(x_tsne, f)\n",
    "with open('data/tsne.pkl', 'rb') as f:\n",
    "    x_tsne = pkl.load(f)"
   ]
  }
 ],
 "metadata": {
  "language_info": {
   "name": "python"
  },
  "orig_nbformat": 4
 },
 "nbformat": 4,
 "nbformat_minor": 2
}
