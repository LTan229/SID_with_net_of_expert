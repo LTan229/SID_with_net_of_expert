{
 "cells": [
  {
   "attachments": {},
   "cell_type": "markdown",
   "metadata": {},
   "source": [
    "1. 解压.tar.gz文件\n",
    "2. 把LibriSpeech-SI里面的train/test移到data/ 下\n",
    "3. 分出val/\n"
   ]
  },
  {
   "cell_type": "code",
   "execution_count": 14,
   "metadata": {},
   "outputs": [],
   "source": [
    "import os\n",
    "import shutil\n",
    "from tqdm import tqdm\n",
    "import random"
   ]
  },
  {
   "cell_type": "code",
   "execution_count": 5,
   "metadata": {},
   "outputs": [
    {
     "data": {
      "text/plain": [
       "'/data1/home/xiruiling/course/AdvanceArtificialIntelligence/AAI_Proj'"
      ]
     },
     "execution_count": 5,
     "metadata": {},
     "output_type": "execute_result"
    }
   ],
   "source": [
    "proj_root_dir = os.path.abspath(os.path.join(os.getcwd(),\"..\"))\n",
    "\n"
   ]
  },
  {
   "cell_type": "code",
   "execution_count": 8,
   "metadata": {},
   "outputs": [],
   "source": [
    "#unzip the file'\n",
    "data_folder_dir = os.path.join(proj_root_dir, 'data')\n",
    "zip_file_path = os.path.join(data_folder_dir, 'LibriSpeech-SI.tar.gz')\n",
    "!tar -xf $zip_file_path -C $data_folder_dir"
   ]
  },
  {
   "cell_type": "code",
   "execution_count": 18,
   "metadata": {},
   "outputs": [
    {
     "name": "stderr",
     "output_type": "stream",
     "text": [
      "100%|██████████| 250/250 [00:00<00:00, 1196.05it/s]\n"
     ]
    }
   ],
   "source": [
    "# split the set\n",
    "shutil.copytree(os.path.join(data_folder_dir, 'LibriSpeech-SI', 'train'), \n",
    "                os.path.join(data_folder_dir, 'train'))\n",
    "shutil.copytree(os.path.join(data_folder_dir, 'LibriSpeech-SI', 'test'), \n",
    "                os.path.join(data_folder_dir, 'test'))\n",
    "\n",
    "\n",
    "train_folder_dir = os.path.join(data_folder_dir, 'train')\n",
    "val_folder_dir = os.path.join(data_folder_dir, 'val')\n",
    "os.mkdir(val_folder_dir)\n",
    "\n",
    "speaker_folder_list = os.listdir(train_folder_dir)\n",
    "for speaker_folder in tqdm(speaker_folder_list):\n",
    "    wav_file_list = os.listdir(os.path.join(train_folder_dir, speaker_folder))\n",
    "    random.shuffle(wav_file_list)\n",
    "    for i in range(len(wav_file_list) // 5):\n",
    "        shutil.move(os.path.join(train_folder_dir, speaker_folder, wav_file_list[i]),\n",
    "                    os.path.join(val_folder_dir, wav_file_list[i]))"
   ]
  },
  {
   "cell_type": "code",
   "execution_count": null,
   "metadata": {},
   "outputs": [],
   "source": []
  }
 ],
 "metadata": {
  "kernelspec": {
   "display_name": "TestEnv",
   "language": "python",
   "name": "python3"
  },
  "language_info": {
   "codemirror_mode": {
    "name": "ipython",
    "version": 3
   },
   "file_extension": ".py",
   "mimetype": "text/x-python",
   "name": "python",
   "nbconvert_exporter": "python",
   "pygments_lexer": "ipython3",
   "version": "3.7.13 (default, Mar 29 2022, 02:18:16) \n[GCC 7.5.0]"
  },
  "orig_nbformat": 4,
  "vscode": {
   "interpreter": {
    "hash": "638fd99b6f8315570d0eadb3c3caa9c92c17ee6381122f56dcae46cd26d849db"
   }
  }
 },
 "nbformat": 4,
 "nbformat_minor": 2
}
