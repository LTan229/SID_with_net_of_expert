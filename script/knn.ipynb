{
 "cells": [
  {
   "attachments": {},
   "cell_type": "markdown",
   "metadata": {},
   "source": [
    "1. 加载数据\n",
    "2. 搜索最佳参数\n",
    "3. 可视化\n",
    "4. 存标签"
   ]
  },
  {
   "cell_type": "code",
   "execution_count": 1,
   "metadata": {},
   "outputs": [],
   "source": [
    "import os\n",
    "import shutil\n",
    "from tqdm import tqdm\n",
    "import random\n",
    "import math\n",
    "from glob import glob\n",
    "\n",
    "import pickle as pkl\n",
    "\n",
    "import numpy as np\n",
    "import pandas as pd\n",
    "import matplotlib.pyplot as plt\n",
    "\n",
    "from sklearn import metrics\n",
    "from sklearn.model_selection import ParameterGrid\n",
    "from sklearn.cluster import KMeans\n"
   ]
  },
  {
   "cell_type": "code",
   "execution_count": 2,
   "metadata": {},
   "outputs": [
    {
     "data": {
      "text/plain": [
       "'/data1/home/xiruiling/course/AdvanceArtificialIntelligence/AAI_Proj/script'"
      ]
     },
     "execution_count": 2,
     "metadata": {},
     "output_type": "execute_result"
    }
   ],
   "source": [
    "os.getcwd()"
   ]
  },
  {
   "cell_type": "code",
   "execution_count": 3,
   "metadata": {},
   "outputs": [
    {
     "name": "stdout",
     "output_type": "stream",
     "text": [
      "proj_root_dir:  /data1/home/xiruiling/course/AdvanceArtificialIntelligence/AAI_Proj\n"
     ]
    }
   ],
   "source": [
    "# get the current directory\n",
    "# proj_root_dir = '/data1/home/xiruiling/course/AdvanceArtificialIntelligence/AAI_Proj'\n",
    "proj_root_dir = os.path.abspath(os.path.join(os.getcwd(),\"..\"))\n",
    "print(\"proj_root_dir: \", proj_root_dir)"
   ]
  },
  {
   "cell_type": "code",
   "execution_count": 15,
   "metadata": {},
   "outputs": [
    {
     "name": "stdout",
     "output_type": "stream",
     "text": [
      "251\n"
     ]
    },
    {
     "data": {
      "text/html": [
       "<div>\n",
       "<style scoped>\n",
       "    .dataframe tbody tr th:only-of-type {\n",
       "        vertical-align: middle;\n",
       "    }\n",
       "\n",
       "    .dataframe tbody tr th {\n",
       "        vertical-align: top;\n",
       "    }\n",
       "\n",
       "    .dataframe thead th {\n",
       "        text-align: right;\n",
       "    }\n",
       "</style>\n",
       "<table border=\"1\" class=\"dataframe\">\n",
       "  <thead>\n",
       "    <tr style=\"text-align: right;\">\n",
       "      <th></th>\n",
       "      <th>0</th>\n",
       "      <th>1</th>\n",
       "      <th>2</th>\n",
       "    </tr>\n",
       "  </thead>\n",
       "  <tbody>\n",
       "    <tr>\n",
       "      <th>0</th>\n",
       "      <td>2.697207e-06</td>\n",
       "      <td>2.175114e-06</td>\n",
       "      <td>-1.444606e-06</td>\n",
       "    </tr>\n",
       "    <tr>\n",
       "      <th>1</th>\n",
       "      <td>-1.820185e-06</td>\n",
       "      <td>1.996362e-06</td>\n",
       "      <td>-1.543234e-07</td>\n",
       "    </tr>\n",
       "    <tr>\n",
       "      <th>2</th>\n",
       "      <td>8.055199e-07</td>\n",
       "      <td>3.526720e-06</td>\n",
       "      <td>1.933964e-06</td>\n",
       "    </tr>\n",
       "    <tr>\n",
       "      <th>3</th>\n",
       "      <td>-1.747895e-06</td>\n",
       "      <td>2.983067e-06</td>\n",
       "      <td>-7.219960e-07</td>\n",
       "    </tr>\n",
       "    <tr>\n",
       "      <th>4</th>\n",
       "      <td>-3.069659e-06</td>\n",
       "      <td>4.365137e-06</td>\n",
       "      <td>1.587823e-06</td>\n",
       "    </tr>\n",
       "    <tr>\n",
       "      <th>...</th>\n",
       "      <td>...</td>\n",
       "      <td>...</td>\n",
       "      <td>...</td>\n",
       "    </tr>\n",
       "    <tr>\n",
       "      <th>890827</th>\n",
       "      <td>-4.436323e-07</td>\n",
       "      <td>-4.743703e-06</td>\n",
       "      <td>2.518872e-06</td>\n",
       "    </tr>\n",
       "    <tr>\n",
       "      <th>890828</th>\n",
       "      <td>5.872241e-06</td>\n",
       "      <td>-8.220618e-07</td>\n",
       "      <td>-6.376421e-06</td>\n",
       "    </tr>\n",
       "    <tr>\n",
       "      <th>890829</th>\n",
       "      <td>4.336947e-06</td>\n",
       "      <td>-1.994195e-06</td>\n",
       "      <td>-6.970361e-06</td>\n",
       "    </tr>\n",
       "    <tr>\n",
       "      <th>890830</th>\n",
       "      <td>4.427898e-06</td>\n",
       "      <td>-8.360230e-06</td>\n",
       "      <td>-6.005343e-06</td>\n",
       "    </tr>\n",
       "    <tr>\n",
       "      <th>890831</th>\n",
       "      <td>-3.219059e-06</td>\n",
       "      <td>-3.088792e-06</td>\n",
       "      <td>7.131184e-07</td>\n",
       "    </tr>\n",
       "  </tbody>\n",
       "</table>\n",
       "<p>890832 rows × 3 columns</p>\n",
       "</div>"
      ],
      "text/plain": [
       "                   0             1             2\n",
       "0       2.697207e-06  2.175114e-06 -1.444606e-06\n",
       "1      -1.820185e-06  1.996362e-06 -1.543234e-07\n",
       "2       8.055199e-07  3.526720e-06  1.933964e-06\n",
       "3      -1.747895e-06  2.983067e-06 -7.219960e-07\n",
       "4      -3.069659e-06  4.365137e-06  1.587823e-06\n",
       "...              ...           ...           ...\n",
       "890827 -4.436323e-07 -4.743703e-06  2.518872e-06\n",
       "890828  5.872241e-06 -8.220618e-07 -6.376421e-06\n",
       "890829  4.336947e-06 -1.994195e-06 -6.970361e-06\n",
       "890830  4.427898e-06 -8.360230e-06 -6.005343e-06\n",
       "890831 -3.219059e-06 -3.088792e-06  7.131184e-07\n",
       "\n",
       "[890832 rows x 3 columns]"
      ]
     },
     "execution_count": 15,
     "metadata": {},
     "output_type": "execute_result"
    }
   ],
   "source": [
    "# load\n",
    "tSNE_result_dir = os.path.join(proj_root_dir, 'state_dict', 'tSNE_3D.pkl')\n",
    "with open(tSNE_result_dir, 'rb') as f:\n",
    "    tSNE_result = pkl.load(f)\n",
    "\n",
    "idx_dir = os.path.join(proj_root_dir, 'state_dict', 'fft_result_wo_simplify', 'trnIdx.pkl')\n",
    "with open(idx_dir, 'rb') as f:\n",
    "    Idx = pkl.load(f)\n",
    "\n",
    "# print(tSNE_result)\n",
    "print(len(Idx))\n",
    "\n",
    "pd.reset_option('display.float_format')\n",
    "tSNE_result_pd = pd.DataFrame(tSNE_result)\n",
    "tSNE_result_pd\n"
   ]
  },
  {
   "cell_type": "code",
   "execution_count": 89,
   "metadata": {},
   "outputs": [
    {
     "name": "stderr",
     "output_type": "stream",
     "text": [
      "  0%|          | 0/4 [00:00<?, ?it/s]/data1/home/xiruiling/anaconda3/envs/TestEnv/lib/python3.8/site-packages/sklearn/cluster/_kmeans.py:870: FutureWarning: The default value of `n_init` will change from 10 to 'auto' in 1.4. Set the value of `n_init` explicitly to suppress the warning\n",
      "  warnings.warn(\n",
      "  0%|          | 0/4 [00:18<?, ?it/s]\n"
     ]
    },
    {
     "ename": "FileNotFoundError",
     "evalue": "[Errno 2] No such file or directory: \"/data1/home/xiruiling/course/AdvanceArtificialIntelligence/AAI_Proj/state_dict/knn_model/knn_{'n_clusters': 16}_.pkl\"",
     "output_type": "error",
     "traceback": [
      "\u001b[0;31m---------------------------------------------------------------------------\u001b[0m",
      "\u001b[0;31mFileNotFoundError\u001b[0m                         Traceback (most recent call last)",
      "Cell \u001b[0;32mIn[89], line 15\u001b[0m\n\u001b[1;32m     13\u001b[0m kmeans_model\u001b[39m.\u001b[39mset_params(\u001b[39m*\u001b[39m\u001b[39m*\u001b[39mp)    \u001b[39m# set current hyper parameter\u001b[39;00m\n\u001b[1;32m     14\u001b[0m kmeans_model\u001b[39m.\u001b[39mfit(tSNE_result_pd)          \u001b[39m# fit model on wine dataset, this will find clusters based on parameter p\u001b[39;00m\n\u001b[0;32m---> 15\u001b[0m \u001b[39mwith\u001b[39;00m \u001b[39mopen\u001b[39;49m(os\u001b[39m.\u001b[39;49mpath\u001b[39m.\u001b[39;49mjoin(\u001b[39m'\u001b[39;49m\u001b[39m/data1/home/xiruiling/course/AdvanceArtificialIntelligence/AAI_Proj/state_dict/knn_model\u001b[39;49m\u001b[39m'\u001b[39;49m, \u001b[39m'\u001b[39;49m\u001b[39mknn_\u001b[39;49m\u001b[39m'\u001b[39;49m\u001b[39m+\u001b[39;49m\u001b[39mstr\u001b[39;49m(p)\u001b[39m+\u001b[39;49m\u001b[39m'\u001b[39;49m\u001b[39m_.pkl\u001b[39;49m\u001b[39m'\u001b[39;49m), \u001b[39m'\u001b[39;49m\u001b[39mwb\u001b[39;49m\u001b[39m'\u001b[39;49m) \u001b[39mas\u001b[39;00m f:\n\u001b[1;32m     16\u001b[0m     pkl\u001b[39m.\u001b[39mdump(kmeans_model, f)\n\u001b[1;32m     17\u001b[0m ss \u001b[39m=\u001b[39m metrics\u001b[39m.\u001b[39msilhouette_score(tSNE_result_pd, kmeans_model\u001b[39m.\u001b[39mlabels_)   \u001b[39m# calculate silhouette_score\u001b[39;00m\n",
      "File \u001b[0;32m~/anaconda3/envs/TestEnv/lib/python3.8/site-packages/IPython/core/interactiveshell.py:282\u001b[0m, in \u001b[0;36m_modified_open\u001b[0;34m(file, *args, **kwargs)\u001b[0m\n\u001b[1;32m    275\u001b[0m \u001b[39mif\u001b[39;00m file \u001b[39min\u001b[39;00m {\u001b[39m0\u001b[39m, \u001b[39m1\u001b[39m, \u001b[39m2\u001b[39m}:\n\u001b[1;32m    276\u001b[0m     \u001b[39mraise\u001b[39;00m \u001b[39mValueError\u001b[39;00m(\n\u001b[1;32m    277\u001b[0m         \u001b[39mf\u001b[39m\u001b[39m\"\u001b[39m\u001b[39mIPython won\u001b[39m\u001b[39m'\u001b[39m\u001b[39mt let you open fd=\u001b[39m\u001b[39m{\u001b[39;00mfile\u001b[39m}\u001b[39;00m\u001b[39m by default \u001b[39m\u001b[39m\"\u001b[39m\n\u001b[1;32m    278\u001b[0m         \u001b[39m\"\u001b[39m\u001b[39mas it is likely to crash IPython. If you know what you are doing, \u001b[39m\u001b[39m\"\u001b[39m\n\u001b[1;32m    279\u001b[0m         \u001b[39m\"\u001b[39m\u001b[39myou can use builtins\u001b[39m\u001b[39m'\u001b[39m\u001b[39m open.\u001b[39m\u001b[39m\"\u001b[39m\n\u001b[1;32m    280\u001b[0m     )\n\u001b[0;32m--> 282\u001b[0m \u001b[39mreturn\u001b[39;00m io_open(file, \u001b[39m*\u001b[39;49margs, \u001b[39m*\u001b[39;49m\u001b[39m*\u001b[39;49mkwargs)\n",
      "\u001b[0;31mFileNotFoundError\u001b[0m: [Errno 2] No such file or directory: \"/data1/home/xiruiling/course/AdvanceArtificialIntelligence/AAI_Proj/state_dict/knn_model/knn_{'n_clusters': 16}_.pkl\""
     ]
    }
   ],
   "source": [
    "# Search parameters\n",
    "parameters = [16, 12, 20, 24]\n",
    "\n",
    "# instantiating ParameterGrid, pass number of clusters as input\n",
    "parameter_grid = ParameterGrid({'n_clusters': parameters})\n",
    "\n",
    "best_score = -1\n",
    "kmeans_model = KMeans()     # instantiating KMeans model\n",
    "silhouette_scores = []\n",
    "\n",
    "# evaluation based on silhouette_score\n",
    "for p in tqdm(parameter_grid):\n",
    "    kmeans_model.set_params(**p)    # set current hyper parameter\n",
    "    kmeans_model.fit(tSNE_result_pd)          # fit model on wine dataset, this will find clusters based on parameter p\n",
    "    with open(os.path.join('/data1/home/xiruiling/course/AdvanceArtificialIntelligence/AAI_Proj/state_dict/knn_model', 'knn_'+str(p['n_clusters'])+'_.pkl'), 'wb') as f:\n",
    "        pkl.dump(kmeans_model, f)\n",
    "    ss = metrics.silhouette_score(tSNE_result_pd, kmeans_model.labels_)   # calculate silhouette_score\n",
    "    silhouette_scores += [ss]       # store all the scores\n",
    "\n",
    "    print('Parameter:', p, 'Score', ss)\n",
    "\n",
    "    # check p which has the best score\n",
    "    if ss > best_score:\n",
    "        best_score = ss\n",
    "        best_grid = p\n",
    "\n",
    "# plotting silhouette score\n",
    "plt.bar(range(len(silhouette_scores)), list(silhouette_scores), align='center', color='#722f59', width=0.5)\n",
    "plt.xticks(range(len(silhouette_scores)), list(parameters))\n",
    "plt.title('Silhouette Score', fontweight='bold')\n",
    "plt.xlabel('Number of Clusters')\n",
    "plt.show()\n",
    "\n",
    "best_grid['n_clusters']"
   ]
  },
  {
   "cell_type": "code",
   "execution_count": 87,
   "metadata": {},
   "outputs": [
    {
     "name": "stdout",
     "output_type": "stream",
     "text": [
      "optimum num of clusters = 16\n"
     ]
    }
   ],
   "source": [
    "optimum_num_clusters = 16 #best_grid['n_clusters']\n",
    "print(\"optimum num of clusters =\", optimum_num_clusters)"
   ]
  },
  {
   "cell_type": "code",
   "execution_count": 16,
   "metadata": {},
   "outputs": [
    {
     "data": {
      "text/plain": [
       "array([[ 2.3504751e-06, -1.7730632e-07, -2.2947165e-06],\n",
       "       [-5.5951182e-06,  6.4746882e-07,  3.9640358e-07],\n",
       "       [ 2.1120290e-05, -9.4594925e-06, -1.6061931e-05],\n",
       "       [ 2.5874872e-06, -7.2141274e-06, -2.5601073e-06],\n",
       "       [-7.1858426e-07,  1.8908331e-06,  2.5997454e-07],\n",
       "       [ 3.4716334e-06,  3.5247664e-05, -3.0129366e-05],\n",
       "       [-4.0009122e-06, -7.3689598e-06,  3.3467427e-06],\n",
       "       [ 1.7055230e-04,  1.0153509e-04,  1.5247456e-05],\n",
       "       [-6.2623752e-05,  1.1109019e-05, -2.4256386e-05],\n",
       "       [ 4.4431545e-05,  1.5437539e-05, -7.0885067e-06],\n",
       "       [ 2.6224777e-06,  1.2320022e-06,  2.0281198e-06],\n",
       "       [ 3.8886337e-05, -5.3712574e-05, -5.1309962e-07],\n",
       "       [-1.9160400e-06, -2.3396021e-06, -2.8191548e-06],\n",
       "       [-2.7606554e-06,  5.0584026e-06, -4.3753162e-06],\n",
       "       [ 4.4663334e-06, -3.9149172e-06,  5.7292659e-06],\n",
       "       [-2.7258479e-06,  6.2248255e-06,  9.2966661e-07],\n",
       "       [ 6.8330124e-08, -2.2280840e-06,  1.2391743e-06],\n",
       "       [ 9.3802350e-07, -3.2106120e-06, -1.0203360e-05],\n",
       "       [-8.7062983e-07,  7.8822302e-07,  6.1510768e-06],\n",
       "       [ 8.0944337e-06,  1.0094293e-05, -4.2496470e-07]], dtype=float32)"
      ]
     },
     "execution_count": 16,
     "metadata": {},
     "output_type": "execute_result"
    }
   ],
   "source": [
    "# get the centroids\n",
    "kmeans = KMeans(n_clusters=16)\n",
    "with open(os.path.join(proj_root_dir, 'state_dict', 'knn_model', 'knn_20_.pkl'), 'rb') as f:\n",
    "    kmeans = pkl.load(f)\n",
    "# kmeans.fit(tSNE_result_pd)\n",
    "centroids = kmeans.cluster_centers_\n",
    "centroids\n",
    "# centroids_tSNE = tSNE_result_pd.transform(centroids)"
   ]
  },
  {
   "cell_type": "code",
   "execution_count": 5,
   "metadata": {},
   "outputs": [
    {
     "ename": "NameError",
     "evalue": "name 'tSNE_result' is not defined",
     "output_type": "error",
     "traceback": [
      "\u001b[0;31m---------------------------------------------------------------------------\u001b[0m",
      "\u001b[0;31mNameError\u001b[0m                                 Traceback (most recent call last)",
      "Cell \u001b[0;32mIn[5], line 3\u001b[0m\n\u001b[1;32m      1\u001b[0m \u001b[39m# Visualization\u001b[39;00m\n\u001b[0;32m----> 3\u001b[0m x \u001b[39m=\u001b[39m tSNE_result[:, \u001b[39m0\u001b[39m]\n\u001b[1;32m      4\u001b[0m y \u001b[39m=\u001b[39m tSNE_result[:, \u001b[39m1\u001b[39m]\n\u001b[1;32m      6\u001b[0m plt\u001b[39m.\u001b[39mfigure(figsize\u001b[39m=\u001b[39m(\u001b[39m10\u001b[39m,\u001b[39m10\u001b[39m))\n",
      "\u001b[0;31mNameError\u001b[0m: name 'tSNE_result' is not defined"
     ]
    }
   ],
   "source": [
    "# Visualization\n",
    "\n",
    "x = tSNE_result[:, 0]\n",
    "y = tSNE_result[:, 1]\n",
    "\n",
    "plt.figure(figsize=(10,10))\n",
    "plt.scatter(x, y, c=kmeans.labels_, alpha=0.5, s=2)  # plot different colors per cluster\n",
    "plt.scatter(centroids[:,0] , centroids[:,1] , s = 10, marker='X', color = 'red')\n",
    "\n",
    "plt.title('KNN clusters')\n",
    "plt.xlabel('t-SNE 1')\n",
    "plt.ylabel('t-SNE 2')\n",
    "plt.legend()\n",
    "# plt.scatter(knn_result[:, 0], knn_result[:, 1], marker='X', s=200, linewidths=1.5,\n",
    "#             color='red', edgecolors=\"black\", lw=1.5)\n",
    "\n",
    "plt.show()"
   ]
  },
  {
   "cell_type": "code",
   "execution_count": 17,
   "metadata": {},
   "outputs": [
    {
     "data": {
      "text/plain": [
       "array([ 0,  1,  2,  3,  4,  5,  6,  7,  8,  9, 10, 11, 12, 13, 14, 15, 16,\n",
       "       17, 18, 19], dtype=int32)"
      ]
     },
     "execution_count": 17,
     "metadata": {},
     "output_type": "execute_result"
    }
   ],
   "source": [
    "kmeans.labels_\n",
    "np.unique(np.array(kmeans.labels_))"
   ]
  },
  {
   "cell_type": "code",
   "execution_count": 19,
   "metadata": {},
   "outputs": [
    {
     "ename": "IndexError",
     "evalue": "index 16 is out of bounds for axis 0 with size 16",
     "output_type": "error",
     "traceback": [
      "\u001b[0;31m---------------------------------------------------------------------------\u001b[0m",
      "\u001b[0;31mIndexError\u001b[0m                                Traceback (most recent call last)",
      "Cell \u001b[0;32mIn[19], line 16\u001b[0m\n\u001b[1;32m     14\u001b[0m specialty_record \u001b[39m=\u001b[39m np\u001b[39m.\u001b[39mzeros((\u001b[39m16\u001b[39m))\n\u001b[1;32m     15\u001b[0m \u001b[39mfor\u001b[39;00m i \u001b[39min\u001b[39;00m \u001b[39mrange\u001b[39m(\u001b[39mlen\u001b[39m(Idx)\u001b[39m-\u001b[39m\u001b[39m1\u001b[39m):\n\u001b[0;32m---> 16\u001b[0m     specialty_record[\u001b[39mint\u001b[39m(final_result[i][\u001b[39m1\u001b[39m])] \u001b[39m=\u001b[39m specialty_record[\u001b[39mint\u001b[39;49m(final_result[i][\u001b[39m1\u001b[39;49m])] \u001b[39m+\u001b[39m \u001b[39m1\u001b[39m\n\u001b[1;32m     18\u001b[0m specialty_record\n",
      "\u001b[0;31mIndexError\u001b[0m: index 16 is out of bounds for axis 0 with size 16"
     ]
    }
   ],
   "source": [
    "labels = kmeans.labels_\n",
    "\n",
    "final_result = np.zeros((len(Idx)-1, 2))\n",
    "for i in range(len(Idx)-1):\n",
    "    final_result[i][0] = i\n",
    "    majority_vote_record = np.zeros((20))\n",
    "    for j in range(Idx[i], Idx[i+1]):\n",
    "        majority_vote_record[labels[j]] = majority_vote_record[labels[j]] + 1\n",
    "    final_result[i][1] = np.argmax(np.array(majority_vote_record))\n",
    "    # print(j, \"th speaker record: \", majority_vote_record)\n",
    "    # print(\"vote: \", np.argmax(np.array(majority_vote_record)), \"\\n\")\n",
    "\n",
    "np.save(os.path.join(proj_root_dir, 'state_dict', 'knn_specialty'), final_result)\n",
    "specialty_record = np.zeros((20))\n",
    "for i in range(len(Idx)-1):\n",
    "    specialty_record[int(final_result[i][1])] = specialty_record[int(final_result[i][1])] + 1\n",
    "\n",
    "specialty_record"
   ]
  },
  {
   "cell_type": "code",
   "execution_count": null,
   "metadata": {},
   "outputs": [],
   "source": []
  }
 ],
 "metadata": {
  "kernelspec": {
   "display_name": "TestEnv",
   "language": "python",
   "name": "python3"
  },
  "language_info": {
   "codemirror_mode": {
    "name": "ipython",
    "version": 3
   },
   "file_extension": ".py",
   "mimetype": "text/x-python",
   "name": "python",
   "nbconvert_exporter": "python",
   "pygments_lexer": "ipython3",
   "version": "3.8.13"
  },
  "orig_nbformat": 4,
  "vscode": {
   "interpreter": {
    "hash": "638fd99b6f8315570d0eadb3c3caa9c92c17ee6381122f56dcae46cd26d849db"
   }
  }
 },
 "nbformat": 4,
 "nbformat_minor": 2
}
