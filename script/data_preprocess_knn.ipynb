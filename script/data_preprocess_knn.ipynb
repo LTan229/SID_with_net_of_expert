{
 "cells": [
  {
   "attachments": {},
   "cell_type": "markdown",
   "metadata": {},
   "source": [
    "1. 加载数据\n",
    "2. 切片\n",
    "3. 删除无信息（安静）片段\n",
    "4. 精简数据（how？）\n",
    "5. fft\n",
    "6. t-SNE\n",
    "7. knn cluster\n",
    "8. write into static dict"
   ]
  }
 ],
 "metadata": {
  "kernelspec": {
   "display_name": "gan",
   "language": "python",
   "name": "python3"
  },
  "language_info": {
   "name": "python",
   "version": "3.7.13 (default, Mar 29 2022, 02:18:16) \n[GCC 7.5.0]"
  },
  "orig_nbformat": 4,
  "vscode": {
   "interpreter": {
    "hash": "21e2e1b5dcab4fc70fdb401af774a60c8dedeabbbc3fa6df77f7e12a85c9b849"
   }
  }
 },
 "nbformat": 4,
 "nbformat_minor": 2
}
