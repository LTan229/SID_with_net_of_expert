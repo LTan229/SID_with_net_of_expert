{
 "cells": [
  {
   "attachments": {},
   "cell_type": "markdown",
   "metadata": {},
   "source": [
    "1. 加载数据\n",
    "2. 切片\n",
    "3. 删除无信息（安静）片段\n",
    "4. 精简数据（how？）\n",
    "5. fft\n",
    "6. t-SNE\n",
    "7. knn cluster\n",
    "8. write into static dict"
   ]
  },
  {
   "cell_type": "code",
   "execution_count": null,
   "metadata": {},
   "outputs": [],
   "source": [
    "!pip install SpeechRecognition\n",
    "!pip install soundfile\n",
    "## !pip install cuml"
   ]
  },
  {
   "cell_type": "code",
   "execution_count": 4,
   "metadata": {},
   "outputs": [
    {
     "ename": "ImportError",
     "evalue": "\n================================================================\nFailed to import CuPy.\n\nIf you installed CuPy via wheels (cupy-cudaXXX or cupy-rocm-X-X), make sure that the package matches with the version of CUDA or ROCm installed.\n\nOn Linux, you may need to set LD_LIBRARY_PATH environment variable depending on how you installed CUDA/ROCm.\nOn Windows, try setting CUDA_PATH environment variable.\n\nCheck the Installation Guide for details:\n  https://docs.cupy.dev/en/latest/install.html\n\nOriginal error:\n  ImportError: /data1/home/xiruiling/anaconda3/envs/TestEnv/lib/python3.8/site-packages/cupy_backends/cuda/api/runtime.cpython-38-x86_64-linux-gnu.so: symbol cudaMemPoolCreate, version libcudart.so.11.0 not defined in file libcudart.so.11.0 with link time reference\n================================================================\n",
     "output_type": "error",
     "traceback": [
      "\u001b[0;31m---------------------------------------------------------------------------\u001b[0m",
      "\u001b[0;31mImportError\u001b[0m                               Traceback (most recent call last)",
      "File \u001b[0;32m~/anaconda3/envs/TestEnv/lib/python3.8/site-packages/cupy/__init__.py:18\u001b[0m\n\u001b[1;32m     17\u001b[0m \u001b[39mtry\u001b[39;00m:\n\u001b[0;32m---> 18\u001b[0m     \u001b[39mfrom\u001b[39;00m \u001b[39mcupy\u001b[39;00m \u001b[39mimport\u001b[39;00m _core  \u001b[39m# NOQA\u001b[39;00m\n\u001b[1;32m     19\u001b[0m \u001b[39mexcept\u001b[39;00m \u001b[39mImportError\u001b[39;00m \u001b[39mas\u001b[39;00m exc:\n",
      "File \u001b[0;32m~/anaconda3/envs/TestEnv/lib/python3.8/site-packages/cupy/_core/__init__.py:3\u001b[0m\n\u001b[1;32m      1\u001b[0m \u001b[39m# mypy: ignore-errors\u001b[39;00m\n\u001b[0;32m----> 3\u001b[0m \u001b[39mfrom\u001b[39;00m \u001b[39mcupy\u001b[39;00m\u001b[39m.\u001b[39;00m\u001b[39m_core\u001b[39;00m \u001b[39mimport\u001b[39;00m core  \u001b[39m# NOQA\u001b[39;00m\n\u001b[1;32m      4\u001b[0m \u001b[39mfrom\u001b[39;00m \u001b[39mcupy\u001b[39;00m\u001b[39m.\u001b[39;00m\u001b[39m_core\u001b[39;00m \u001b[39mimport\u001b[39;00m fusion  \u001b[39m# NOQA\u001b[39;00m\n",
      "File \u001b[0;32mcupy/_core/core.pyx:1\u001b[0m, in \u001b[0;36minit cupy._core.core\u001b[0;34m()\u001b[0m\n",
      "File \u001b[0;32m~/anaconda3/envs/TestEnv/lib/python3.8/site-packages/cupy/cuda/__init__.py:8\u001b[0m\n\u001b[1;32m      7\u001b[0m \u001b[39mfrom\u001b[39;00m \u001b[39mcupy\u001b[39;00m\u001b[39m.\u001b[39;00m\u001b[39m_environment\u001b[39;00m \u001b[39mimport\u001b[39;00m get_hipcc_path  \u001b[39m# NOQA\u001b[39;00m\n\u001b[0;32m----> 8\u001b[0m \u001b[39mfrom\u001b[39;00m \u001b[39mcupy\u001b[39;00m\u001b[39m.\u001b[39;00m\u001b[39mcuda\u001b[39;00m \u001b[39mimport\u001b[39;00m compiler  \u001b[39m# NOQA\u001b[39;00m\n\u001b[1;32m      9\u001b[0m \u001b[39mfrom\u001b[39;00m \u001b[39mcupy\u001b[39;00m\u001b[39m.\u001b[39;00m\u001b[39mcuda\u001b[39;00m \u001b[39mimport\u001b[39;00m device  \u001b[39m# NOQA\u001b[39;00m\n",
      "File \u001b[0;32m~/anaconda3/envs/TestEnv/lib/python3.8/site-packages/cupy/cuda/compiler.py:13\u001b[0m\n\u001b[1;32m     11\u001b[0m \u001b[39mimport\u001b[39;00m \u001b[39mwarnings\u001b[39;00m\n\u001b[0;32m---> 13\u001b[0m \u001b[39mfrom\u001b[39;00m \u001b[39mcupy\u001b[39;00m\u001b[39m.\u001b[39;00m\u001b[39mcuda\u001b[39;00m \u001b[39mimport\u001b[39;00m device\n\u001b[1;32m     14\u001b[0m \u001b[39mfrom\u001b[39;00m \u001b[39mcupy\u001b[39;00m\u001b[39m.\u001b[39;00m\u001b[39mcuda\u001b[39;00m \u001b[39mimport\u001b[39;00m function\n",
      "File \u001b[0;32mcupy/cuda/device.pyx:1\u001b[0m, in \u001b[0;36minit cupy.cuda.device\u001b[0;34m()\u001b[0m\n",
      "\u001b[0;31mImportError\u001b[0m: /data1/home/xiruiling/anaconda3/envs/TestEnv/lib/python3.8/site-packages/cupy_backends/cuda/api/runtime.cpython-38-x86_64-linux-gnu.so: symbol cudaMemPoolCreate, version libcudart.so.11.0 not defined in file libcudart.so.11.0 with link time reference",
      "\nThe above exception was the direct cause of the following exception:\n",
      "\u001b[0;31mImportError\u001b[0m                               Traceback (most recent call last)",
      "Cell \u001b[0;32mIn[4], line 13\u001b[0m\n\u001b[1;32m     10\u001b[0m \u001b[39mfrom\u001b[39;00m \u001b[39msklearn\u001b[39;00m\u001b[39m.\u001b[39;00m\u001b[39mmanifold\u001b[39;00m \u001b[39mimport\u001b[39;00m TSNE\n\u001b[1;32m     11\u001b[0m \u001b[39m# import cuml\u001b[39;00m\n\u001b[1;32m     12\u001b[0m \u001b[39m# import cudf\u001b[39;00m\n\u001b[0;32m---> 13\u001b[0m \u001b[39mfrom\u001b[39;00m \u001b[39mcuml\u001b[39;00m\u001b[39m.\u001b[39;00m\u001b[39mmanifold\u001b[39;00m \u001b[39mimport\u001b[39;00m TSNE \u001b[39mas\u001b[39;00m cudaTSNE\n\u001b[1;32m     14\u001b[0m \u001b[39mimport\u001b[39;00m \u001b[39mpickle\u001b[39;00m \u001b[39mas\u001b[39;00m \u001b[39mpkl\u001b[39;00m\n\u001b[1;32m     16\u001b[0m \u001b[39mimport\u001b[39;00m \u001b[39mnumpy\u001b[39;00m \u001b[39mas\u001b[39;00m \u001b[39mnp\u001b[39;00m\n",
      "File \u001b[0;32m~/anaconda3/envs/TestEnv/lib/python3.8/site-packages/cuml/__init__.py:17\u001b[0m\n\u001b[1;32m      1\u001b[0m \u001b[39m#\u001b[39;00m\n\u001b[1;32m      2\u001b[0m \u001b[39m# Copyright (c) 2022, NVIDIA CORPORATION.\u001b[39;00m\n\u001b[1;32m      3\u001b[0m \u001b[39m#\u001b[39;00m\n\u001b[0;32m   (...)\u001b[0m\n\u001b[1;32m     14\u001b[0m \u001b[39m# limitations under the License.\u001b[39;00m\n\u001b[1;32m     15\u001b[0m \u001b[39m#\u001b[39;00m\n\u001b[0;32m---> 17\u001b[0m \u001b[39mfrom\u001b[39;00m \u001b[39mcuml\u001b[39;00m\u001b[39m.\u001b[39;00m\u001b[39mcommon\u001b[39;00m\u001b[39m.\u001b[39;00m\u001b[39mbase\u001b[39;00m \u001b[39mimport\u001b[39;00m Base\n\u001b[1;32m     18\u001b[0m \u001b[39mfrom\u001b[39;00m \u001b[39mcuml\u001b[39;00m\u001b[39m.\u001b[39;00m\u001b[39mcommon\u001b[39;00m\u001b[39m.\u001b[39;00m\u001b[39mhandle\u001b[39;00m \u001b[39mimport\u001b[39;00m Handle\n\u001b[1;32m     19\u001b[0m \u001b[39mimport\u001b[39;00m \u001b[39mcuml\u001b[39;00m\u001b[39m.\u001b[39;00m\u001b[39mcommon\u001b[39;00m\u001b[39m.\u001b[39;00m\u001b[39mcuda\u001b[39;00m \u001b[39mas\u001b[39;00m \u001b[39mcuda\u001b[39;00m\n",
      "File \u001b[0;32m~/anaconda3/envs/TestEnv/lib/python3.8/site-packages/cuml/common/__init__.py:17\u001b[0m\n\u001b[1;32m      1\u001b[0m \u001b[39m#\u001b[39;00m\n\u001b[1;32m      2\u001b[0m \u001b[39m# Copyright (c) 2019-2022, NVIDIA CORPORATION.\u001b[39;00m\n\u001b[1;32m      3\u001b[0m \u001b[39m#\u001b[39;00m\n\u001b[0;32m   (...)\u001b[0m\n\u001b[1;32m     14\u001b[0m \u001b[39m# limitations under the License.\u001b[39;00m\n\u001b[1;32m     15\u001b[0m \u001b[39m#\u001b[39;00m\n\u001b[0;32m---> 17\u001b[0m \u001b[39mfrom\u001b[39;00m \u001b[39mcuml\u001b[39;00m\u001b[39m.\u001b[39;00m\u001b[39mcommon\u001b[39;00m\u001b[39m.\u001b[39;00m\u001b[39marray\u001b[39;00m \u001b[39mimport\u001b[39;00m CumlArray\n\u001b[1;32m     18\u001b[0m \u001b[39mfrom\u001b[39;00m \u001b[39mcuml\u001b[39;00m\u001b[39m.\u001b[39;00m\u001b[39mcommon\u001b[39;00m\u001b[39m.\u001b[39;00m\u001b[39marray_sparse\u001b[39;00m \u001b[39mimport\u001b[39;00m SparseCumlArray\n\u001b[1;32m     20\u001b[0m \u001b[39m# utils\u001b[39;00m\n",
      "File \u001b[0;32m~/anaconda3/envs/TestEnv/lib/python3.8/site-packages/cuml/common/array.py:17\u001b[0m\n\u001b[1;32m      1\u001b[0m \u001b[39m#\u001b[39;00m\n\u001b[1;32m      2\u001b[0m \u001b[39m# Copyright (c) 2020-2022, NVIDIA CORPORATION.\u001b[39;00m\n\u001b[1;32m      3\u001b[0m \u001b[39m#\u001b[39;00m\n\u001b[0;32m   (...)\u001b[0m\n\u001b[1;32m     14\u001b[0m \u001b[39m# limitations under the License.\u001b[39;00m\n\u001b[1;32m     15\u001b[0m \u001b[39m#\u001b[39;00m\n\u001b[0;32m---> 17\u001b[0m \u001b[39mimport\u001b[39;00m \u001b[39mcupy\u001b[39;00m \u001b[39mas\u001b[39;00m \u001b[39mcp\u001b[39;00m\n\u001b[1;32m     18\u001b[0m \u001b[39mimport\u001b[39;00m \u001b[39mnumpy\u001b[39;00m \u001b[39mas\u001b[39;00m \u001b[39mnp\u001b[39;00m\n\u001b[1;32m     19\u001b[0m \u001b[39mimport\u001b[39;00m \u001b[39moperator\u001b[39;00m\n",
      "File \u001b[0;32m~/anaconda3/envs/TestEnv/lib/python3.8/site-packages/cupy/__init__.py:20\u001b[0m\n\u001b[1;32m     18\u001b[0m     \u001b[39mfrom\u001b[39;00m \u001b[39mcupy\u001b[39;00m \u001b[39mimport\u001b[39;00m _core  \u001b[39m# NOQA\u001b[39;00m\n\u001b[1;32m     19\u001b[0m \u001b[39mexcept\u001b[39;00m \u001b[39mImportError\u001b[39;00m \u001b[39mas\u001b[39;00m exc:\n\u001b[0;32m---> 20\u001b[0m     \u001b[39mraise\u001b[39;00m \u001b[39mImportError\u001b[39;00m(\u001b[39mf\u001b[39m\u001b[39m'''\u001b[39m\n\u001b[1;32m     21\u001b[0m \u001b[39m================================================================\u001b[39m\n\u001b[1;32m     22\u001b[0m \u001b[39m{\u001b[39;00m_environment\u001b[39m.\u001b[39m_diagnose_import_error()\u001b[39m}\u001b[39;00m\n\u001b[1;32m     23\u001b[0m \n\u001b[1;32m     24\u001b[0m \u001b[39mOriginal error:\u001b[39m\n\u001b[1;32m     25\u001b[0m \u001b[39m  \u001b[39m\u001b[39m{\u001b[39;00m\u001b[39mtype\u001b[39m(exc)\u001b[39m.\u001b[39m\u001b[39m__name__\u001b[39m\u001b[39m}\u001b[39;00m\u001b[39m: \u001b[39m\u001b[39m{\u001b[39;00mexc\u001b[39m}\u001b[39;00m\n\u001b[1;32m     26\u001b[0m \u001b[39m================================================================\u001b[39m\n\u001b[1;32m     27\u001b[0m \u001b[39m'''\u001b[39m) \u001b[39mfrom\u001b[39;00m \u001b[39mexc\u001b[39;00m\n\u001b[1;32m     30\u001b[0m \u001b[39mfrom\u001b[39;00m \u001b[39mcupy\u001b[39;00m \u001b[39mimport\u001b[39;00m cuda  \u001b[39m# NOQA\u001b[39;00m\n\u001b[1;32m     31\u001b[0m \u001b[39m# Do not make `cupy.cupyx` available because it is confusing.\u001b[39;00m\n",
      "\u001b[0;31mImportError\u001b[0m: \n================================================================\nFailed to import CuPy.\n\nIf you installed CuPy via wheels (cupy-cudaXXX or cupy-rocm-X-X), make sure that the package matches with the version of CUDA or ROCm installed.\n\nOn Linux, you may need to set LD_LIBRARY_PATH environment variable depending on how you installed CUDA/ROCm.\nOn Windows, try setting CUDA_PATH environment variable.\n\nCheck the Installation Guide for details:\n  https://docs.cupy.dev/en/latest/install.html\n\nOriginal error:\n  ImportError: /data1/home/xiruiling/anaconda3/envs/TestEnv/lib/python3.8/site-packages/cupy_backends/cuda/api/runtime.cpython-38-x86_64-linux-gnu.so: symbol cudaMemPoolCreate, version libcudart.so.11.0 not defined in file libcudart.so.11.0 with link time reference\n================================================================\n"
     ]
    }
   ],
   "source": [
    "import os\n",
    "import shutil\n",
    "from tqdm import tqdm\n",
    "import random\n",
    "import math\n",
    "from glob import glob\n",
    "\n",
    "import soundfile as sf            # To read .flac files.   \n",
    "import speech_recognition as sr   # pip install SpeechRecognition.\n",
    "from sklearn.manifold import TSNE\n",
    "# import cuml\n",
    "# import cudf\n",
    "from cuml.manifold import TSNE as cudaTSNE\n",
    "import pickle as pkl\n",
    "\n",
    "import numpy as np\n",
    "import pandas as pd\n",
    "import matplotlib.pyplot as plt\n"
   ]
  },
  {
   "cell_type": "code",
   "execution_count": null,
   "metadata": {},
   "outputs": [],
   "source": [
    "# static parameters\n",
    "durationCheck = 10.      # Only consider files with 10 or more seconds of audio.\n",
    "deltaT        = 0.2      # Audio frame size is 0.2 seconds.\n",
    "noisy         = 0.1      # This sets the limit for static, i.e. pauses in speech.\n",
    "lim1 = 10; lim2 = 410    # Lower and upper frequencies. \n",
    "                         # For the above parameters and 16 kHz sampling, this range is about 50 - 2000 Hz.  \n",
    "\n",
    "fft_numFeatures = lim2-lim1"
   ]
  },
  {
   "cell_type": "code",
   "execution_count": null,
   "metadata": {},
   "outputs": [],
   "source": [
    "# get the current directory\n",
    "proj_root_dir = os.path.abspath(os.path.join(os.getcwd(),\"..\"))\n",
    "proj_root_dir\n",
    "\n",
    "train_folder_dir = os.path.join(proj_root_dir, 'data', 'train')\n",
    "state_dict_folder_dir = os.path.join(proj_root_dir, 'state_dict')"
   ]
  },
  {
   "cell_type": "code",
   "execution_count": null,
   "metadata": {},
   "outputs": [],
   "source": [
    "# fft calculation\n",
    "\n",
    "# Read data from a folder into a list.\n",
    "def getSpeakerData(speaker_folder_name):\n",
    "  flac_file_list = glob(os.path.join(train_folder_dir, speaker_folder_name, '*.flac'))\n",
    "  flac_dir_list = []\n",
    "  for flac_file_dir in flac_file_list:\n",
    "    data,samplerate = sf.read(flac_file_dir)  \n",
    "    duration = len(data)*1./samplerate\n",
    "    if duration >= durationCheck: \n",
    "      flac_dir_list.append(flac_file_dir)\n",
    "\n",
    "  chunksF = []\n",
    "\n",
    "  for flac_dir in flac_dir_list:\n",
    "    data,samplerate = sf.read(flac_dir)  \n",
    "    duration = len(data)*1./samplerate\n",
    "\n",
    "    # Divide audio data into frames, or chunks. \n",
    "    numChunks = int(duration/deltaT)\n",
    "    sizeChunk = int(len(data)/numChunks)\n",
    "    for lp in range(0,numChunks):    \n",
    "      chunk = data[lp*sizeChunk:(lp+1)*sizeChunk]      # get a chunk of speech.     \n",
    "      chunksF.append(np.abs(np.fft.rfft(chunk))[lim1:lim2])  # take the FFT.\n",
    "      # shape of chunksF: slice_num * 400\n",
    "\n",
    "    # Delete quiet parts of speech, i.e. pauses.\n",
    "    # Most of the power is in the bottom 50% of frequencies.\n",
    "    mu = np.mean([np.mean(chunksF[i][:fft_numFeatures//2]) for i in range(0,len(chunksF))])\n",
    "    speaker_fft = []\n",
    "    for chunkF in chunksF:\n",
    "      if np.mean(chunkF[:fft_numFeatures//2]) > noisy*mu:\n",
    "        speaker_fft.append(chunkF)\n",
    "        # shape of speaker_fft: slice_w_information_num * 400\n",
    "    \n",
    "  return speaker_fft\n",
    "\n",
    "# Return data for all speakers.\n",
    "def getDataSpeakers(division):\n",
    "  dataSpeakers = []\n",
    "  for speaker in tqdm(sorted(os.listdir(train_folder_dir))):\n",
    "    # print (\"Getting data for speaker: \"+speaker)\n",
    "    dataSpeakers.append(getSpeakerData(speaker))\n",
    "    # shape pf dataSpeakers: speaker_num * slice_w_info_num * 400\n",
    "\n",
    "  N = np.sum([np.shape(s)[0] for s in dataSpeakers])\n",
    "  tX = np.mat(np.zeros((N,fft_numFeatures)))\n",
    "  tY = []\n",
    "  speakerIndices = [0]    # Index corresponding to start of speaker 'n'\n",
    "  \n",
    "  ctr = 0; lp = 0\n",
    "  for dataSpeaker in dataSpeakers:\n",
    "    for j in range(0,len(dataSpeaker)):\n",
    "      for k in range(0,fft_numFeatures):\n",
    "        tX[ctr,k] = dataSpeaker[j][k]\n",
    "      tY.append(lp)\n",
    "      ctr += 1  \n",
    "    speakerIndices.append(ctr)\n",
    "    lp += 1  \n",
    "          \n",
    "  return tX,tY,speakerIndices"
   ]
  },
  {
   "cell_type": "code",
   "execution_count": null,
   "metadata": {},
   "outputs": [],
   "source": [
    "# overall fft information\n",
    "trnX,trnY,trnIdx = getDataSpeakers('train')\n",
    "print(np.shape(trnX), np.shape(trnY))\n",
    "trnRows = np.shape(trnX)[0]\n",
    "print(trnIdx)   # Start location of speaker 'i'."
   ]
  },
  {
   "cell_type": "code",
   "execution_count": null,
   "metadata": {},
   "outputs": [],
   "source": [
    "try:\n",
    "    os.mkdir(os.path.join(state_dict_folder_dir, 'fft_result_wo_simplify'))\n",
    "except OSError:\n",
    "    pass\n",
    "\n",
    "with open(os.path.join(state_dict_folder_dir, 'fft_result_wo_simplify', 'trnX.pkl'), 'wb') as f:\n",
    "    pkl.dump(trnX, f)\n",
    "with open(os.path.join(state_dict_folder_dir, 'fft_result_wo_simplify', 'trnY.pkl'), 'wb') as f:\n",
    "    pkl.dump(trnY, f)\n",
    "with open(os.path.join(state_dict_folder_dir, 'fft_result_wo_simplify', 'trnIdx.pkl'), 'wb') as f:\n",
    "    pkl.dump(trnIdx, f)"
   ]
  },
  {
   "cell_type": "code",
   "execution_count": null,
   "metadata": {},
   "outputs": [],
   "source": [
    "# t-SNE dimentional reduction\n",
    "\n",
    "with open('/data1/home/xiruiling/course/AdvanceArtificialIntelligence/AAI_Proj/state_dict/fft_result_wo_simplify/trnX.pkl', 'rb') as f:\n",
    "    trnX = pkl.load(f)\n",
    "print(\"The original dimension: \", np.array(trnX).shape)\n",
    "x_tsne = TSNE(n_components=2,random_state=0).fit_transform(trnX)\n",
    "# x_tsne = cudaTSNE(n_components=2, perplexity=50, learning_rate=20).fit_transform(trnX)\n",
    "x_tsne\n",
    "# print(\"after t-SNE: \", x_tsne.shape)"
   ]
  },
  {
   "cell_type": "code",
   "execution_count": null,
   "metadata": {},
   "outputs": [],
   "source": [
    "# visualize the t-SNE result\n",
    "x_min, x_max = x_tsne.min(0), x_tsne.max(0)\n",
    "X_norm = (x_tsne - x_min) / (x_max - x_min)  # 归一化\n",
    "plt.figure(figsize=(8, 8))\n",
    "for i in range(X_norm.shape[0]):\n",
    "    plt.text(X_norm[i, 0], X_norm[i, 1], str(y[i]), color=plt.cm.Set1(y[i]), \n",
    "             fontdict={'weight': 'bold', 'size': 9})\n",
    "plt.xticks([])\n",
    "plt.yticks([])\n",
    "plt.show()"
   ]
  }
 ],
 "metadata": {
  "kernelspec": {
   "display_name": "TestEnv",
   "language": "python",
   "name": "python3"
  },
  "language_info": {
   "codemirror_mode": {
    "name": "ipython",
    "version": 3
   },
   "file_extension": ".py",
   "mimetype": "text/x-python",
   "name": "python",
   "nbconvert_exporter": "python",
   "pygments_lexer": "ipython3",
   "version": "3.8.13 (default, Mar 28 2022, 11:38:47) \n[GCC 7.5.0]"
  },
  "orig_nbformat": 4,
  "vscode": {
   "interpreter": {
    "hash": "638fd99b6f8315570d0eadb3c3caa9c92c17ee6381122f56dcae46cd26d849db"
   }
  }
 },
 "nbformat": 4,
 "nbformat_minor": 2
}
