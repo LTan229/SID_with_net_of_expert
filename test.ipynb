{
 "cells": [
  {
   "cell_type": "code",
   "execution_count": 1,
   "metadata": {},
   "outputs": [],
   "source": [
    "import pandas as pd\n",
    "import numpy as np\n",
    "trnX = pd.read_pickle('data/fft_result_wo_simplify/trnX.pkl')\n",
    "maxx = np.max(trnX)\n",
    "minn = np.min(trnX)\n",
    "trnX = (trnX - minn) / (maxx - minn)\n",
    "pd.to_pickle(trnX, 'data/fft_result_wo_simplify/trnX_norm.pkl')"
   ]
  },
  {
   "cell_type": "code",
   "execution_count": null,
   "metadata": {},
   "outputs": [],
   "source": [
    "with open('result/result.txt', 'r') as file:\n",
    "    lines = file.readlines()\n",
    "id_list = []\n",
    "for line in lines:\n",
    "    id_list.append(int(line.split('.')[0][4:]))"
   ]
  },
  {
   "cell_type": "code",
   "execution_count": null,
   "metadata": {},
   "outputs": [],
   "source": [
    "import itertools\n",
    "\n",
    "missing = filter(lambda x: x not in id_list, itertools.count(1, max(id_list)))\n",
    "\n",
    "print(list(missing))"
   ]
  }
 ],
 "metadata": {
  "interpreter": {
   "hash": "2a9787eff19113e00d275072e2f97069286bb3858183bba60a98f7ea1e632fb9"
  },
  "kernelspec": {
   "display_name": "Python 3.8.13 ('python38')",
   "language": "python",
   "name": "python3"
  },
  "language_info": {
   "codemirror_mode": {
    "name": "ipython",
    "version": 3
   },
   "file_extension": ".py",
   "mimetype": "text/x-python",
   "name": "python",
   "nbconvert_exporter": "python",
   "pygments_lexer": "ipython3",
   "version": "3.8.12"
  },
  "orig_nbformat": 4
 },
 "nbformat": 4,
 "nbformat_minor": 2
}
